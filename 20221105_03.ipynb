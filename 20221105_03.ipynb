{
  "cells": [
    {
      "cell_type": "markdown",
      "metadata": {
        "id": "view-in-github",
        "colab_type": "text"
      },
      "source": [
        "<a href=\"https://colab.research.google.com/github/edalgoca/mod02_python/blob/main/20221105_03.ipynb\" target=\"_parent\"><img src=\"https://colab.research.google.com/assets/colab-badge.svg\" alt=\"Open In Colab\"/></a>"
      ]
    },
    {
      "cell_type": "code",
      "execution_count": null,
      "metadata": {
        "id": "dlt9hpmXx3hg"
      },
      "outputs": [],
      "source": [
        "# Let's bring in pandas and numpy as usual\n",
        "import pandas as pd\n",
        "import numpy as np"
      ]
    },
    {
      "cell_type": "markdown",
      "metadata": {
        "id": "DBtDcMTCx3hl"
      },
      "source": [
        "### 1. Timestamp"
      ]
    },
    {
      "cell_type": "markdown",
      "metadata": {
        "id": "RGELk7Uix3hn"
      },
      "source": [
        "Los Timestamp representan un punto en el tiempo"
      ]
    },
    {
      "cell_type": "code",
      "execution_count": null,
      "metadata": {
        "id": "PqNEOclox3ho"
      },
      "outputs": [],
      "source": [
        "# Podemos crear un timestamp ingresando por separado el año, el mes, la hora, la fecha y los minutos.\n"
      ]
    },
    {
      "cell_type": "code",
      "execution_count": null,
      "metadata": {
        "id": "Sj0QgZ-Nx3hp"
      },
      "outputs": [],
      "source": [
        "# Se puede ingresar directamente los datos ordenados sin especificar el formato anterior\n"
      ]
    },
    {
      "cell_type": "code",
      "execution_count": null,
      "metadata": {
        "id": "S0b3gZDQx3hq"
      },
      "outputs": [],
      "source": [
        "# Tambien podemos crear un timestamp utilizando formatos de fecha y hora, como se hace en excel\n"
      ]
    },
    {
      "cell_type": "code",
      "execution_count": null,
      "metadata": {
        "id": "3JK5Jgwkx3hr"
      },
      "outputs": [],
      "source": [
        "# Algo muy util de un Timestamp son los métodos para extraer los años, meses, dias, horas, minutos...\n",
        "#(year, month, day, hour, second)\n"
      ]
    },
    {
      "cell_type": "markdown",
      "metadata": {
        "id": "XgUUYJlzx3hs"
      },
      "source": [
        "### 2. Period"
      ]
    },
    {
      "cell_type": "markdown",
      "metadata": {
        "id": "6Y5M6hwKx3ht"
      },
      "source": [
        "Los períodos se pueden utilizar para verificar si un evento específico ocurre dentro de un período determinado. Básicamente, un período representa un intervalo, mientras que una marca de tiempo representa un punto en el tiempo."
      ]
    },
    {
      "cell_type": "code",
      "execution_count": null,
      "metadata": {
        "id": "Zm_pWfQQx3ht"
      },
      "outputs": [],
      "source": [
        "p = pd.Period('2017-06-13')\n",
        "test = pd.Timestamp('2017-06-13 22:11')\n",
        "p.start_time < test < p.end_time"
      ]
    },
    {
      "cell_type": "code",
      "execution_count": null,
      "metadata": {
        "id": "TGPNWSlFx3hu"
      },
      "outputs": [],
      "source": [
        "p.start_time"
      ]
    },
    {
      "cell_type": "code",
      "execution_count": null,
      "metadata": {
        "id": "r1kNXrlcx3hv"
      },
      "outputs": [],
      "source": [
        "p.end_time"
      ]
    },
    {
      "cell_type": "code",
      "execution_count": null,
      "metadata": {
        "id": "oRi-ilXTx3hv"
      },
      "outputs": [],
      "source": [
        "# Imagina que no estamos interesados en un momento específico en el tiempo y, en cambio, queremos un lapso de tiempo.\n",
        "# Aquí es donde entra en juego la clase Period. El período representa un período de tiempo único, como un día o mes \n",
        "# específico.\n",
        "# por ejemplo podemos crear un periodo de tiempo mensual para enero del año 2020\n"
      ]
    },
    {
      "cell_type": "code",
      "execution_count": null,
      "metadata": {
        "id": "Sir0eFimx3hw"
      },
      "outputs": [],
      "source": [
        "# Si ingresamos una fecha más detallada, incluyendo el día por ejemplo, pandas nos indicará que el dato más detallado\n",
        "# corresponde al formato día \n"
      ]
    },
    {
      "cell_type": "code",
      "execution_count": null,
      "metadata": {
        "id": "UAiws5Kbx3hw"
      },
      "outputs": [],
      "source": [
        "# Si quisieramos realizar algún tipo de operación entre fechas, tendriamos por ejemplo\n"
      ]
    },
    {
      "cell_type": "code",
      "execution_count": null,
      "metadata": {
        "id": "kFReE8AGx3hw"
      },
      "outputs": [],
      "source": [
        "# En el caso anterior obtuvimos un nuevo periodo "
      ]
    },
    {
      "cell_type": "code",
      "execution_count": null,
      "metadata": {
        "id": "huNnZKhux3hx"
      },
      "outputs": [],
      "source": [
        "# Si tuvieramos un dato de resolución temporal más alta por ejemplo dia el operador va a extraer \n"
      ]
    },
    {
      "cell_type": "markdown",
      "metadata": {
        "id": "TWxb46f1x3hx"
      },
      "source": [
        "### 3. DatetimeIndex y PeriodIndex"
      ]
    },
    {
      "cell_type": "code",
      "execution_count": null,
      "metadata": {
        "id": "VibksNUzx3hx"
      },
      "outputs": [],
      "source": [
        "# El datatimeindex, no es más que el indice de una marca de tiempo o timestamp.\n",
        "data1 = pd.Series(data = ['dato 1','dato 2','dato 3'], index = [pd.Timestamp('2020-09-01'), pd.Timestamp('2020-09-02'), \n",
        "                             pd.Timestamp('2020-09-03')], name = 'datos')\n",
        "data1"
      ]
    },
    {
      "cell_type": "code",
      "execution_count": null,
      "metadata": {
        "id": "4u_G64Hsx3hy"
      },
      "outputs": [],
      "source": [
        "# Al observar el tipo de índice de nuestra serie, vemos que es DatetimeIndex.\n"
      ]
    },
    {
      "cell_type": "code",
      "execution_count": null,
      "metadata": {
        "id": "3szuEHdWx3hy"
      },
      "outputs": [],
      "source": [
        "# De manera similar, también podemos crear un índice basado en períodos.\n",
        "data2 = pd.Series(data = ['dato 1','dato 2','dato 3'], index = [pd.Period('2020-09-01'), pd.Period('2020-09-02'), \n",
        "                             pd.Period('2020-09-03')])\n",
        "data2"
      ]
    },
    {
      "cell_type": "code",
      "execution_count": null,
      "metadata": {
        "id": "Mr-aQNMWx3hy"
      },
      "outputs": [],
      "source": [
        "# Mirando el tipo de data2.index, podemos ver que es PeriodIndex.\n"
      ]
    },
    {
      "cell_type": "code",
      "execution_count": null,
      "metadata": {
        "id": "eoMksLYMx3hz"
      },
      "outputs": [],
      "source": [
        "# Convertir de un PeriodIndex a un DatetimeIndex\n"
      ]
    },
    {
      "cell_type": "code",
      "execution_count": null,
      "metadata": {
        "id": "rXjKmXyZx3hz"
      },
      "outputs": [],
      "source": []
    },
    {
      "cell_type": "markdown",
      "metadata": {
        "id": "-9aR6GOkx3hz"
      },
      "source": [
        "### 4. Convertir fechas al formato estandar de pandas"
      ]
    },
    {
      "cell_type": "code",
      "execution_count": null,
      "metadata": {
        "id": "noqov_9Ux3hz"
      },
      "outputs": [],
      "source": [
        "# Imagina que tienes diferentes formatos de fechas y las quieres convertir todas en un mismo formato\n",
        "fechas = ['Jun 30, 2019','1 January 2020', '2015-06-26', '7/12/20']\n",
        "\n",
        "# And just some random data\n",
        "Data = pd.DataFrame(data = ['dato 1','dato 2','dato 3','dato 4'], index = fechas, columns=['Datos'])\n",
        "Data"
      ]
    },
    {
      "cell_type": "code",
      "execution_count": null,
      "metadata": {
        "id": "jp52mHjjx3h0"
      },
      "outputs": [],
      "source": [
        "# ver el contenido del index\n"
      ]
    },
    {
      "cell_type": "code",
      "execution_count": null,
      "metadata": {
        "id": "SluCFgS7x3h0"
      },
      "outputs": [],
      "source": [
        "# utilizando la función to_datetime, pandas puede transformar las fechas a un formato estandar.\n"
      ]
    },
    {
      "cell_type": "code",
      "execution_count": null,
      "metadata": {
        "id": "i5KXOW-Mx3h0"
      },
      "outputs": [],
      "source": [
        "# ver el contenido del index\n"
      ]
    },
    {
      "cell_type": "markdown",
      "metadata": {
        "id": "sc_ylEzrx3h0"
      },
      "source": [
        "### 5. Timedelta"
      ]
    },
    {
      "cell_type": "code",
      "execution_count": null,
      "metadata": {
        "id": "tTEARfvNx3h0"
      },
      "outputs": [],
      "source": [
        "# Con Timestamp podemos realizar operaciones entre fechas, por ejemplo.. \n"
      ]
    },
    {
      "cell_type": "code",
      "execution_count": null,
      "metadata": {
        "id": "rG9oYx6zx3h1"
      },
      "outputs": [],
      "source": [
        "# Tambien podemos realizar calculos a partir de rangos prestablecidos, por ejemplo...\n"
      ]
    },
    {
      "cell_type": "markdown",
      "metadata": {
        "id": "aF5TYfQnx3h1"
      },
      "source": [
        "### 6. Trabajando con Dataframes"
      ]
    },
    {
      "cell_type": "code",
      "execution_count": null,
      "metadata": {
        "id": "kakoMqTWx3h1"
      },
      "outputs": [],
      "source": [
        "# Función date_range\n"
      ]
    },
    {
      "cell_type": "code",
      "execution_count": null,
      "metadata": {
        "id": "L4s7ja3xx3h1"
      },
      "outputs": [],
      "source": [
        "# Hay muchas otras frecuencias que puede especificar. Por ejemplo, los dias laborables (lunes a viernes)\n"
      ]
    },
    {
      "cell_type": "code",
      "execution_count": null,
      "metadata": {
        "id": "7HP9UO51x3h1"
      },
      "outputs": [],
      "source": [
        "# Funciones utiles en pandas funcion diff()\n"
      ]
    }
  ],
  "metadata": {
    "kernelspec": {
      "display_name": "Python 3",
      "language": "python",
      "name": "python3"
    },
    "language_info": {
      "codemirror_mode": {
        "name": "ipython",
        "version": 3
      },
      "file_extension": ".py",
      "mimetype": "text/x-python",
      "name": "python",
      "nbconvert_exporter": "python",
      "pygments_lexer": "ipython3",
      "version": "3.8.5"
    },
    "varInspector": {
      "cols": {
        "lenName": 16,
        "lenType": 16,
        "lenVar": 40
      },
      "kernels_config": {
        "python": {
          "delete_cmd_postfix": "",
          "delete_cmd_prefix": "del ",
          "library": "var_list.py",
          "varRefreshCmd": "print(var_dic_list())"
        },
        "r": {
          "delete_cmd_postfix": ") ",
          "delete_cmd_prefix": "rm(",
          "library": "var_list.r",
          "varRefreshCmd": "cat(var_dic_list()) "
        }
      },
      "types_to_exclude": [
        "module",
        "function",
        "builtin_function_or_method",
        "instance",
        "_Feature"
      ],
      "window_display": false
    },
    "colab": {
      "provenance": [],
      "include_colab_link": true
    }
  },
  "nbformat": 4,
  "nbformat_minor": 0
}