{
  "cells": [
    {
      "cell_type": "markdown",
      "metadata": {
        "id": "view-in-github",
        "colab_type": "text"
      },
      "source": [
        "<a href=\"https://colab.research.google.com/github/edalgoca/mod02_python/blob/main/20221105_vacio.ipynb\" target=\"_parent\"><img src=\"https://colab.research.google.com/assets/colab-badge.svg\" alt=\"Open In Colab\"/></a>"
      ]
    },
    {
      "cell_type": "markdown",
      "metadata": {
        "id": "UndLK1zdxQxX"
      },
      "source": [
        "# INTRODUCCIÓN A SERIES TEMPORALES EN PANDAS Y GRAFICOS DE DATOS EN MATPLOTLIB"
      ]
    },
    {
      "cell_type": "code",
      "execution_count": null,
      "metadata": {
        "id": "TM9S5v1HxQxb"
      },
      "outputs": [],
      "source": [
        "# instalar y importar las librerias\n",
        "import pandas as pd\n",
        "import matplotlib.pyplot as plt\n",
        "import seaborn as sns\n",
        "sns.set()"
      ]
    },
    {
      "cell_type": "code",
      "execution_count": null,
      "metadata": {
        "id": "wM03oyNQxQxc"
      },
      "outputs": [],
      "source": [
        "# Cargar los datos,\n",
        "air_quality = pd.read_csv(\"air_quality_no2.csv\", index_col=0, parse_dates=True)"
      ]
    },
    {
      "cell_type": "code",
      "execution_count": null,
      "metadata": {
        "id": "7gv7byLYxQxd"
      },
      "outputs": [],
      "source": [
        "# Ver los 5 primeros datos\n"
      ]
    },
    {
      "cell_type": "code",
      "execution_count": null,
      "metadata": {
        "id": "PAdN5XITxQxd"
      },
      "outputs": [],
      "source": [
        "# explorar los datos\n"
      ]
    },
    {
      "cell_type": "code",
      "execution_count": null,
      "metadata": {
        "id": "LeZHdvtsxQxe"
      },
      "outputs": [],
      "source": [
        "# explorar los datos\n"
      ]
    },
    {
      "cell_type": "markdown",
      "metadata": {
        "id": "J550PVp3xQxe"
      },
      "source": [
        "### 1.1. VALORES MEDIOS"
      ]
    },
    {
      "cell_type": "code",
      "execution_count": null,
      "metadata": {
        "id": "sjR7b9jLxQxe"
      },
      "outputs": [],
      "source": [
        "# pasar de datos horarios a datos medios diarios \n"
      ]
    },
    {
      "cell_type": "code",
      "execution_count": null,
      "metadata": {
        "id": "h28mK_ouxQxf"
      },
      "outputs": [],
      "source": [
        "# Pasar de datos horarios a datos medios mensuales\n"
      ]
    },
    {
      "cell_type": "code",
      "execution_count": null,
      "metadata": {
        "id": "4lPjlFlMxQxf"
      },
      "outputs": [],
      "source": [
        "# Pasar de datos horarios a datos medios anuales\n"
      ]
    },
    {
      "cell_type": "markdown",
      "metadata": {
        "id": "FBuN0qvuxQxf"
      },
      "source": [
        "### 1.2. VALORES MAXIMOS"
      ]
    },
    {
      "cell_type": "code",
      "execution_count": null,
      "metadata": {
        "id": "2noJip6AxQxg"
      },
      "outputs": [],
      "source": [
        "# Pasar de datos horarios a datos máximos diarios\n"
      ]
    },
    {
      "cell_type": "code",
      "execution_count": null,
      "metadata": {
        "id": "2gqhZi9uxQxg"
      },
      "outputs": [],
      "source": [
        "# Pasar de datos horarios a datos máximos mensuales\n"
      ]
    },
    {
      "cell_type": "code",
      "execution_count": null,
      "metadata": {
        "id": "nCi5XLUqxQxh"
      },
      "outputs": [],
      "source": [
        "# Pasar de datos horarios a datos máximos anuales\n"
      ]
    },
    {
      "cell_type": "markdown",
      "metadata": {
        "id": "pYLnzaFJxQxh"
      },
      "source": [
        "### 1.3. VALORES MÍNIMOS"
      ]
    },
    {
      "cell_type": "code",
      "execution_count": null,
      "metadata": {
        "id": "oi1EpXUkxQxh"
      },
      "outputs": [],
      "source": [
        "# Pasar de datos horarios a datos mínimos diarios\n"
      ]
    },
    {
      "cell_type": "code",
      "execution_count": null,
      "metadata": {
        "id": "LaRHQQDWxQxh"
      },
      "outputs": [],
      "source": [
        "# Pasar de datos horarios a datos mínimos mensuales\n"
      ]
    },
    {
      "cell_type": "code",
      "execution_count": null,
      "metadata": {
        "id": "5vW9Y6wwxQxi"
      },
      "outputs": [],
      "source": [
        "# Pasar de datos horarios a datos mínimos anuales\n"
      ]
    },
    {
      "cell_type": "markdown",
      "metadata": {
        "id": "V9_QODErxQxi"
      },
      "source": [
        "## 2.0. VIZUALIZACIÓN DE DATOS"
      ]
    },
    {
      "cell_type": "markdown",
      "metadata": {
        "id": "RCoT-dChxQxi"
      },
      "source": [
        "![image.png](attachment:image.png)"
      ]
    },
    {
      "cell_type": "code",
      "execution_count": null,
      "metadata": {
        "id": "liNi45RDxQxi"
      },
      "outputs": [],
      "source": [
        "# Función plot -  imprimir datos de estaciones\n"
      ]
    },
    {
      "cell_type": "code",
      "execution_count": null,
      "metadata": {
        "id": "iRPK94O2xQxj"
      },
      "outputs": [],
      "source": [
        "# plotear una sola estación\n"
      ]
    },
    {
      "cell_type": "code",
      "execution_count": null,
      "metadata": {
        "id": "GAD-utTYxQxj"
      },
      "outputs": [],
      "source": [
        "# Cambiar el tamaño del gráfico\n"
      ]
    },
    {
      "cell_type": "code",
      "execution_count": null,
      "metadata": {
        "id": "Zgv-N_36xQxj"
      },
      "outputs": [],
      "source": [
        "# imprimer cada una de las columnas en graficos aparte \n"
      ]
    },
    {
      "cell_type": "code",
      "execution_count": null,
      "metadata": {
        "id": "ABZGwTV1xQxk"
      },
      "outputs": [],
      "source": [
        "# plotear un digrama de puntos\n"
      ]
    },
    {
      "cell_type": "code",
      "execution_count": null,
      "metadata": {
        "id": "VP_J32H8xQxk"
      },
      "outputs": [],
      "source": [
        "# Cambiar el tamaño y tipo de gráfico \n"
      ]
    },
    {
      "cell_type": "code",
      "execution_count": null,
      "metadata": {
        "id": "DusYsl6CxQxk"
      },
      "outputs": [],
      "source": [
        "# Construir un diagráma de cajas o boxplot\n"
      ]
    }
  ],
  "metadata": {
    "kernelspec": {
      "display_name": "Python 3",
      "language": "python",
      "name": "python3"
    },
    "language_info": {
      "codemirror_mode": {
        "name": "ipython",
        "version": 3
      },
      "file_extension": ".py",
      "mimetype": "text/x-python",
      "name": "python",
      "nbconvert_exporter": "python",
      "pygments_lexer": "ipython3",
      "version": "3.8.5"
    },
    "varInspector": {
      "cols": {
        "lenName": 16,
        "lenType": 16,
        "lenVar": 40
      },
      "kernels_config": {
        "python": {
          "delete_cmd_postfix": "",
          "delete_cmd_prefix": "del ",
          "library": "var_list.py",
          "varRefreshCmd": "print(var_dic_list())"
        },
        "r": {
          "delete_cmd_postfix": ") ",
          "delete_cmd_prefix": "rm(",
          "library": "var_list.r",
          "varRefreshCmd": "cat(var_dic_list()) "
        }
      },
      "types_to_exclude": [
        "module",
        "function",
        "builtin_function_or_method",
        "instance",
        "_Feature"
      ],
      "window_display": false
    },
    "colab": {
      "provenance": [],
      "include_colab_link": true
    }
  },
  "nbformat": 4,
  "nbformat_minor": 0
}