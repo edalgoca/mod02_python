{
  "nbformat": 4,
  "nbformat_minor": 0,
  "metadata": {
    "colab": {
      "provenance": [],
      "collapsed_sections": [],
      "include_colab_link": true
    },
    "kernelspec": {
      "name": "python3",
      "display_name": "Python 3"
    },
    "language_info": {
      "name": "python"
    }
  },
  "cells": [
    {
      "cell_type": "markdown",
      "metadata": {
        "id": "view-in-github",
        "colab_type": "text"
      },
      "source": [
        "<a href=\"https://colab.research.google.com/github/edalgoca/mod02_python/blob/main/20221028_Introducci%C3%B3n_PySpark.ipynb\" target=\"_parent\"><img src=\"https://colab.research.google.com/assets/colab-badge.svg\" alt=\"Open In Colab\"/></a>"
      ]
    },
    {
      "cell_type": "markdown",
      "source": [
        "#**Instalar librerías**"
      ],
      "metadata": {
        "id": "DYReJsMV4anU"
      }
    },
    {
      "cell_type": "code",
      "execution_count": null,
      "metadata": {
        "colab": {
          "base_uri": "https://localhost:8080/"
        },
        "id": "S1bc_xUUL0oA",
        "outputId": "78408cee-c469-4ebb-a655-6948058521bc"
      },
      "outputs": [
        {
          "output_type": "stream",
          "name": "stdout",
          "text": [
            "Requirement already satisfied: pyspark in /usr/local/lib/python3.7/dist-packages (3.2.1)\n",
            "Requirement already satisfied: py4j==0.10.9.3 in /usr/local/lib/python3.7/dist-packages (from pyspark) (0.10.9.3)\n"
          ]
        }
      ],
      "source": [
        "# Instalar librerias\n",
        "!pip install pyspark\n",
        "!pip install -q kaggle"
      ]
    },
    {
      "cell_type": "markdown",
      "source": [
        "# **Importar librerías**"
      ],
      "metadata": {
        "id": "x3oaoINIUzZH"
      }
    },
    {
      "cell_type": "code",
      "source": [
        "from pyspark.sql import functions as F\n",
        "from pyspark.sql import SparkSession\n",
        "from pyspark.sql.types import *\n",
        "import zipfile\n",
        "import os\n",
        "import pandas as pd"
      ],
      "metadata": {
        "id": "j9wilZDqMTo7",
        "colab": {
          "base_uri": "https://localhost:8080/",
          "height": 373
        },
        "outputId": "79763e36-3cbd-42f6-befc-70ce694f8bb6"
      },
      "execution_count": null,
      "outputs": [
        {
          "output_type": "error",
          "ename": "ModuleNotFoundError",
          "evalue": "ignored",
          "traceback": [
            "\u001b[0;31m---------------------------------------------------------------------------\u001b[0m",
            "\u001b[0;31mModuleNotFoundError\u001b[0m                       Traceback (most recent call last)",
            "\u001b[0;32m<ipython-input-1-16c998ae6c3d>\u001b[0m in \u001b[0;36m<module>\u001b[0;34m\u001b[0m\n\u001b[0;32m----> 1\u001b[0;31m \u001b[0;32mfrom\u001b[0m \u001b[0mpyspark\u001b[0m\u001b[0;34m.\u001b[0m\u001b[0msql\u001b[0m \u001b[0;32mimport\u001b[0m \u001b[0mfunctions\u001b[0m \u001b[0;32mas\u001b[0m \u001b[0mF\u001b[0m\u001b[0;34m\u001b[0m\u001b[0;34m\u001b[0m\u001b[0m\n\u001b[0m\u001b[1;32m      2\u001b[0m \u001b[0;32mfrom\u001b[0m \u001b[0mpyspark\u001b[0m\u001b[0;34m.\u001b[0m\u001b[0msql\u001b[0m \u001b[0;32mimport\u001b[0m \u001b[0mSparkSession\u001b[0m\u001b[0;34m\u001b[0m\u001b[0;34m\u001b[0m\u001b[0m\n\u001b[1;32m      3\u001b[0m \u001b[0;32mfrom\u001b[0m \u001b[0mpyspark\u001b[0m\u001b[0;34m.\u001b[0m\u001b[0msql\u001b[0m\u001b[0;34m.\u001b[0m\u001b[0mtypes\u001b[0m \u001b[0;32mimport\u001b[0m \u001b[0;34m*\u001b[0m\u001b[0;34m\u001b[0m\u001b[0;34m\u001b[0m\u001b[0m\n\u001b[1;32m      4\u001b[0m \u001b[0;32mimport\u001b[0m \u001b[0mzipfile\u001b[0m\u001b[0;34m\u001b[0m\u001b[0;34m\u001b[0m\u001b[0m\n\u001b[1;32m      5\u001b[0m \u001b[0;32mimport\u001b[0m \u001b[0mos\u001b[0m\u001b[0;34m\u001b[0m\u001b[0;34m\u001b[0m\u001b[0m\n",
            "\u001b[0;31mModuleNotFoundError\u001b[0m: No module named 'pyspark'",
            "",
            "\u001b[0;31m---------------------------------------------------------------------------\u001b[0;32m\nNOTE: If your import is failing due to a missing package, you can\nmanually install dependencies using either !pip or !apt.\n\nTo view examples of installing some common dependencies, click the\n\"Open Examples\" button below.\n\u001b[0;31m---------------------------------------------------------------------------\u001b[0m\n"
          ],
          "errorDetails": {
            "actions": [
              {
                "action": "open_url",
                "actionText": "Open Examples",
                "url": "/notebooks/snippets/importing_libraries.ipynb"
              }
            ]
          }
        }
      ]
    },
    {
      "cell_type": "code",
      "source": [
        "import pandas as pd\n",
        "df=pd.read_csv(\"test1.csv\")\n",
        "df"
      ],
      "metadata": {
        "colab": {
          "base_uri": "https://localhost:8080/",
          "height": 238
        },
        "id": "DJH6JELMRIAY",
        "outputId": "9cef7f1f-14c9-4574-d16a-4c6aa911a504"
      },
      "execution_count": null,
      "outputs": [
        {
          "output_type": "execute_result",
          "data": {
            "text/plain": [
              "        Name  age  Experience  Salary\n",
              "0      Krish   31          10   30000\n",
              "1  Sudhanshu   30           8   25000\n",
              "2      Sunny   29           4   20000\n",
              "3       Paul   24           3   20000\n",
              "4     Harsha   21           1   15000\n",
              "5    Shubham   23           2   18000"
            ],
            "text/html": [
              "\n",
              "  <div id=\"df-d36e5998-d595-4eef-94f3-9ef0426d6ca7\">\n",
              "    <div class=\"colab-df-container\">\n",
              "      <div>\n",
              "<style scoped>\n",
              "    .dataframe tbody tr th:only-of-type {\n",
              "        vertical-align: middle;\n",
              "    }\n",
              "\n",
              "    .dataframe tbody tr th {\n",
              "        vertical-align: top;\n",
              "    }\n",
              "\n",
              "    .dataframe thead th {\n",
              "        text-align: right;\n",
              "    }\n",
              "</style>\n",
              "<table border=\"1\" class=\"dataframe\">\n",
              "  <thead>\n",
              "    <tr style=\"text-align: right;\">\n",
              "      <th></th>\n",
              "      <th>Name</th>\n",
              "      <th>age</th>\n",
              "      <th>Experience</th>\n",
              "      <th>Salary</th>\n",
              "    </tr>\n",
              "  </thead>\n",
              "  <tbody>\n",
              "    <tr>\n",
              "      <th>0</th>\n",
              "      <td>Krish</td>\n",
              "      <td>31</td>\n",
              "      <td>10</td>\n",
              "      <td>30000</td>\n",
              "    </tr>\n",
              "    <tr>\n",
              "      <th>1</th>\n",
              "      <td>Sudhanshu</td>\n",
              "      <td>30</td>\n",
              "      <td>8</td>\n",
              "      <td>25000</td>\n",
              "    </tr>\n",
              "    <tr>\n",
              "      <th>2</th>\n",
              "      <td>Sunny</td>\n",
              "      <td>29</td>\n",
              "      <td>4</td>\n",
              "      <td>20000</td>\n",
              "    </tr>\n",
              "    <tr>\n",
              "      <th>3</th>\n",
              "      <td>Paul</td>\n",
              "      <td>24</td>\n",
              "      <td>3</td>\n",
              "      <td>20000</td>\n",
              "    </tr>\n",
              "    <tr>\n",
              "      <th>4</th>\n",
              "      <td>Harsha</td>\n",
              "      <td>21</td>\n",
              "      <td>1</td>\n",
              "      <td>15000</td>\n",
              "    </tr>\n",
              "    <tr>\n",
              "      <th>5</th>\n",
              "      <td>Shubham</td>\n",
              "      <td>23</td>\n",
              "      <td>2</td>\n",
              "      <td>18000</td>\n",
              "    </tr>\n",
              "  </tbody>\n",
              "</table>\n",
              "</div>\n",
              "      <button class=\"colab-df-convert\" onclick=\"convertToInteractive('df-d36e5998-d595-4eef-94f3-9ef0426d6ca7')\"\n",
              "              title=\"Convert this dataframe to an interactive table.\"\n",
              "              style=\"display:none;\">\n",
              "        \n",
              "  <svg xmlns=\"http://www.w3.org/2000/svg\" height=\"24px\"viewBox=\"0 0 24 24\"\n",
              "       width=\"24px\">\n",
              "    <path d=\"M0 0h24v24H0V0z\" fill=\"none\"/>\n",
              "    <path d=\"M18.56 5.44l.94 2.06.94-2.06 2.06-.94-2.06-.94-.94-2.06-.94 2.06-2.06.94zm-11 1L8.5 8.5l.94-2.06 2.06-.94-2.06-.94L8.5 2.5l-.94 2.06-2.06.94zm10 10l.94 2.06.94-2.06 2.06-.94-2.06-.94-.94-2.06-.94 2.06-2.06.94z\"/><path d=\"M17.41 7.96l-1.37-1.37c-.4-.4-.92-.59-1.43-.59-.52 0-1.04.2-1.43.59L10.3 9.45l-7.72 7.72c-.78.78-.78 2.05 0 2.83L4 21.41c.39.39.9.59 1.41.59.51 0 1.02-.2 1.41-.59l7.78-7.78 2.81-2.81c.8-.78.8-2.07 0-2.86zM5.41 20L4 18.59l7.72-7.72 1.47 1.35L5.41 20z\"/>\n",
              "  </svg>\n",
              "      </button>\n",
              "      \n",
              "  <style>\n",
              "    .colab-df-container {\n",
              "      display:flex;\n",
              "      flex-wrap:wrap;\n",
              "      gap: 12px;\n",
              "    }\n",
              "\n",
              "    .colab-df-convert {\n",
              "      background-color: #E8F0FE;\n",
              "      border: none;\n",
              "      border-radius: 50%;\n",
              "      cursor: pointer;\n",
              "      display: none;\n",
              "      fill: #1967D2;\n",
              "      height: 32px;\n",
              "      padding: 0 0 0 0;\n",
              "      width: 32px;\n",
              "    }\n",
              "\n",
              "    .colab-df-convert:hover {\n",
              "      background-color: #E2EBFA;\n",
              "      box-shadow: 0px 1px 2px rgba(60, 64, 67, 0.3), 0px 1px 3px 1px rgba(60, 64, 67, 0.15);\n",
              "      fill: #174EA6;\n",
              "    }\n",
              "\n",
              "    [theme=dark] .colab-df-convert {\n",
              "      background-color: #3B4455;\n",
              "      fill: #D2E3FC;\n",
              "    }\n",
              "\n",
              "    [theme=dark] .colab-df-convert:hover {\n",
              "      background-color: #434B5C;\n",
              "      box-shadow: 0px 1px 3px 1px rgba(0, 0, 0, 0.15);\n",
              "      filter: drop-shadow(0px 1px 2px rgba(0, 0, 0, 0.3));\n",
              "      fill: #FFFFFF;\n",
              "    }\n",
              "  </style>\n",
              "\n",
              "      <script>\n",
              "        const buttonEl =\n",
              "          document.querySelector('#df-d36e5998-d595-4eef-94f3-9ef0426d6ca7 button.colab-df-convert');\n",
              "        buttonEl.style.display =\n",
              "          google.colab.kernel.accessAllowed ? 'block' : 'none';\n",
              "\n",
              "        async function convertToInteractive(key) {\n",
              "          const element = document.querySelector('#df-d36e5998-d595-4eef-94f3-9ef0426d6ca7');\n",
              "          const dataTable =\n",
              "            await google.colab.kernel.invokeFunction('convertToInteractive',\n",
              "                                                     [key], {});\n",
              "          if (!dataTable) return;\n",
              "\n",
              "          const docLinkHtml = 'Like what you see? Visit the ' +\n",
              "            '<a target=\"_blank\" href=https://colab.research.google.com/notebooks/data_table.ipynb>data table notebook</a>'\n",
              "            + ' to learn more about interactive tables.';\n",
              "          element.innerHTML = '';\n",
              "          dataTable['output_type'] = 'display_data';\n",
              "          await google.colab.output.renderOutput(dataTable, element);\n",
              "          const docLink = document.createElement('div');\n",
              "          docLink.innerHTML = docLinkHtml;\n",
              "          element.appendChild(docLink);\n",
              "        }\n",
              "      </script>\n",
              "    </div>\n",
              "  </div>\n",
              "  "
            ]
          },
          "metadata": {},
          "execution_count": 3
        }
      ]
    },
    {
      "cell_type": "markdown",
      "source": [
        "# **Creación de una sesión con Spark**"
      ],
      "metadata": {
        "id": "O7rB3UCHU6TS"
      }
    },
    {
      "cell_type": "code",
      "source": [
        "#Iniciar conexión de spark\n",
        "spark = SparkSession.builder\\\n",
        "        .master(\"local\")\\\n",
        "        .appName(\"Colab\")\\\n",
        "        .config('spark.ui.port', '4050')\\\n",
        "        .getOrCreate()"
      ],
      "metadata": {
        "id": "MkEzdz7AMul-"
      },
      "execution_count": null,
      "outputs": []
    },
    {
      "cell_type": "markdown",
      "source": [
        "# **Conexión con kaggle para descargar los datos**\n",
        "Para descargar datos desde Kaggle es necesario crear un token de acceso. Para esto debes seguir los siguientes pasos:\n",
        "\n",
        "1.   Ingresa a tu perfil de kaggle\n",
        "2.   Seleccionar *Account* y bajar hasta la opción *API*\n",
        "3.   Dar click en *Create New API Token* y se descargará un archivo JSON con   tus credenciales\n",
        "4.   Subir el archivo JSON a Colab Notebook\n"
      ],
      "metadata": {
        "id": "rtBRZer3466X"
      }
    },
    {
      "cell_type": "code",
      "source": [
        "# Creamos carpeta oculta en ambiente de linux sobre colab\n",
        "!mkdir ~/.kaggle"
      ],
      "metadata": {
        "id": "mKi8RU-1QsAY",
        "colab": {
          "base_uri": "https://localhost:8080/"
        },
        "outputId": "d4bc1d53-dc51-4a93-e920-6a85dd52e951"
      },
      "execution_count": null,
      "outputs": [
        {
          "output_type": "stream",
          "name": "stdout",
          "text": [
            "mkdir: cannot create directory ‘/root/.kaggle’: File exists\n"
          ]
        }
      ]
    },
    {
      "cell_type": "code",
      "source": [
        "# Copiar el archivo JSON  a la carpeta oculta que creamos\n",
        "!cp kaggle.json ~/.kaggle/"
      ],
      "metadata": {
        "id": "gHs5wpcTQwNW"
      },
      "execution_count": null,
      "outputs": []
    },
    {
      "cell_type": "code",
      "source": [
        "# Cambiamos los permisos para permitir lectura de las credenciales\n",
        "!chmod 600 ~/.kaggle/kaggle.json"
      ],
      "metadata": {
        "id": "mty4DoQJQz9y"
      },
      "execution_count": null,
      "outputs": []
    },
    {
      "cell_type": "code",
      "source": [
        "# Descargamos archivos indicando el usuario del propietario de los datos en kaggle y el nombre de dataset\n",
        "! kaggle datasets download arevel/chess-games --force"
      ],
      "metadata": {
        "colab": {
          "base_uri": "https://localhost:8080/"
        },
        "id": "VliMEHA8RB4Q",
        "outputId": "24db646e-a321-43f4-cb2c-14f50d0c03f8"
      },
      "execution_count": null,
      "outputs": [
        {
          "output_type": "stream",
          "name": "stdout",
          "text": [
            "Downloading chess-games.zip to /content\n",
            "100% 1.45G/1.45G [00:18<00:00, 84.3MB/s]\n",
            "100% 1.45G/1.45G [00:18<00:00, 83.8MB/s]\n"
          ]
        }
      ]
    },
    {
      "cell_type": "code",
      "source": [
        "# Descomprimir el archivo\n",
        "for file in os.listdir():\n",
        "    if file.endswith('.zip'):\n",
        "      zip_ref = zipfile.ZipFile(file, 'r')\n",
        "      zip_ref.extractall()\n",
        "      zip_ref.close()"
      ],
      "metadata": {
        "id": "Wn5YYnCuTsUS"
      },
      "execution_count": null,
      "outputs": []
    },
    {
      "cell_type": "markdown",
      "source": [
        "# **Lectura de datos**"
      ],
      "metadata": {
        "id": "SMHNp87J5SQo"
      }
    },
    {
      "cell_type": "markdown",
      "source": [
        "## Lectura de datos con Pandas"
      ],
      "metadata": {
        "id": "PyhGnfl1aFFj"
      }
    },
    {
      "cell_type": "code",
      "source": [
        "df_pandas = pd.read_csv('/content/chess_games.csv')"
      ],
      "metadata": {
        "id": "xojw0u8MU655"
      },
      "execution_count": null,
      "outputs": []
    },
    {
      "cell_type": "markdown",
      "source": [
        "## Lectura datos con PySpark"
      ],
      "metadata": {
        "id": "TkqYvTjb5VGV"
      }
    },
    {
      "cell_type": "code",
      "source": [
        "df = spark.read.csv('/content/chess_games.csv', header=True)"
      ],
      "metadata": {
        "id": "NbkhPLRDUzmA"
      },
      "execution_count": null,
      "outputs": []
    },
    {
      "cell_type": "markdown",
      "source": [
        "# **Procesamiento de datos**"
      ],
      "metadata": {
        "id": "CvGQgstQahMm"
      }
    },
    {
      "cell_type": "markdown",
      "source": [
        "## Número de filas y columnas\n",
        "\n",
        "pandas: \n",
        "\n",
        "```\n",
        "df.shape\n",
        "```\n",
        "\n"
      ],
      "metadata": {
        "id": "CbA670kW6SzA"
      }
    },
    {
      "cell_type": "code",
      "source": [
        "print((df.count(), len(df.columns)))"
      ],
      "metadata": {
        "colab": {
          "base_uri": "https://localhost:8080/"
        },
        "id": "uVXaXjMuFfqM",
        "outputId": "9e99bb49-0ab7-4fd1-8cf9-c479474e193d"
      },
      "execution_count": null,
      "outputs": [
        {
          "output_type": "stream",
          "name": "stdout",
          "text": [
            "(6256184, 15)\n"
          ]
        }
      ]
    },
    {
      "cell_type": "markdown",
      "source": [
        "## Ver una muestra de los datos\n",
        "\n",
        "pandas: \n",
        "\n",
        "```\n",
        "df.head()\n",
        "```"
      ],
      "metadata": {
        "id": "iEXFI1hO6Xrm"
      }
    },
    {
      "cell_type": "code",
      "source": [
        "df.show()"
      ],
      "metadata": {
        "colab": {
          "base_uri": "https://localhost:8080/"
        },
        "id": "tVa3Aj3VM6_-",
        "outputId": "e2ed3415-a44d-42f6-bc1c-4acb2c3950b5"
      },
      "execution_count": null,
      "outputs": [
        {
          "output_type": "stream",
          "name": "stdout",
          "text": [
            "+------------------+---------------+---------------+------+----------+--------+--------+--------+---------------+---------------+---+--------------------+-----------+------------+--------------------+\n",
            "|             Event|          White|          Black|Result|   UTCDate| UTCTime|WhiteElo|BlackElo|WhiteRatingDiff|BlackRatingDiff|ECO|             Opening|TimeControl| Termination|                  AN|\n",
            "+------------------+---------------+---------------+------+----------+--------+--------+--------+---------------+---------------+---+--------------------+-----------+------------+--------------------+\n",
            "|        Classical |        eisaaaa|       HAMID449|   1-0|2016.06.30|22:00:01|    1901|    1896|           11.0|          -11.0|D10|        Slav Defense|      300+5|Time forfeit|1. d4 d5 2. c4 c6...|\n",
            "|            Blitz |         go4jas|     Sergei1973|   0-1|2016.06.30|22:00:01|    1641|    1627|          -11.0|           12.0|C20|King's Pawn Openi...|      300+0|      Normal|1. e4 e5 2. b3 Nf...|\n",
            "| Blitz tournament |Evangelistaizac|         kafune|   1-0|2016.06.30|22:00:02|    1647|    1688|           13.0|          -13.0|B01|Scandinavian Defe...|      180+0|Time forfeit|1. e4 d5 2. exd5 ...|\n",
            "|   Correspondence |         Jvayne|       Wsjvayne|   1-0|2016.06.30|22:00:02|    1706|    1317|           27.0|          -25.0|A00|Van't Kruijs Opening|          -|      Normal|1. e3 Nf6 2. Bc4 ...|\n",
            "| Blitz tournament |         kyoday|      BrettDale|   0-1|2016.06.30|22:00:02|    1945|    1900|          -14.0|           13.0|B90|Sicilian Defense:...|      180+0|Time forfeit|1. e4 c5 2. Nf3 d...|\n",
            "| Blitz tournament | lucaseixasouza|         diguim|   0-1|2016.06.30|22:00:02|    1773|    1809|          -10.0|           10.0|C27|         Vienna Game|      180+0|      Normal|1. e4 e5 2. Nc3 d...|\n",
            "| Blitz tournament |       RENZZO77|HeadlessChicken|   0-1|2016.06.30|22:00:02|    1895|    1886|          -12.0|           12.0|B10|Caro-Kann Defense...|      180+0|Time forfeit|1. e4 c6 2. Nf3 d...|\n",
            "| Blitz tournament |          ipero|      Bayern123|   1-0|2016.06.30|22:00:02|    2155|    2356|           20.0|          -20.0|D02|Queen's Pawn Game...|      180+0|      Normal|1. d4 d5 2. Nf3 N...|\n",
            "| Blitz tournament |Loginov19510410|        Kereshu|   0-1|2016.06.30|22:00:02|    2010|    2111|           -9.0|            9.0|A45|         Indian Game|      300+0|      Normal|1. d4 Nf6 2. Bf4 ...|\n",
            "| Blitz tournament |     Shambobala|     cernunnoss|   1-0|2016.06.30|22:00:02|    1764|    1773|           12.0|          -12.0|B01|Scandinavian Defe...|      180+0|Time forfeit|1. e4 d5 2. exd5 ...|\n",
            "|        Classical |        DARDELU|   chess4life54|   0-1|2016.06.30|22:00:01|    1649|    1638|          -13.0|           11.0|C57|Italian Game: Two...|      900+3|      Normal|1. e4 e5 2. Nf3 N...|\n",
            "|        Classical |        fabikim|         sereno|   1-0|2016.06.30|22:00:02|    1630|    1500|            7.0|           -7.0|C41| Philidor Defense #3|      420+5|      Normal|1. e4 e5 2. Nf3 d...|\n",
            "| Blitz tournament |      IZDenisZI|         BoBo93|   1-0|2016.06.30|22:00:02|    1833|    1837|           11.0|          -12.0|C36|King's Gambit Acc...|      300+0|      Normal|1. e4 e5 2. f4 ex...|\n",
            "| Blitz tournament |     lasha-fero| ildivinojohnny|   1-0|2016.06.30|22:00:02|    2020|    1979|           10.0|          -11.0|A00|      Polish Opening|      180+0|Time forfeit|1. b4 e6 2. Bb2 d...|\n",
            "| Blitz tournament |       arkadyNa|     sofianet06|   0-1|2016.06.30|22:00:02|    1581|    1616|          -12.0|           11.0|B01|Scandinavian Defe...|      180+0|Time forfeit|1. e4 d5 2. exd5 ...|\n",
            "| Blitz tournament |    mayconchess|        trend19|   0-1|2016.06.30|22:00:02|    1879|    1868|          -13.0|           12.0|B01|Scandinavian Defe...|      180+0|      Normal|1. e4 d5 2. exd5 ...|\n",
            "| Blitz tournament |         lj1983|        plmnnnn|   1-0|2016.06.30|22:00:02|    1963|    1979|           12.0|          -13.0|B10|Caro-Kann Defense...|      180+0|      Normal|1. e4 c6 2. Nf3 d...|\n",
            "| Blitz tournament |         Inorem|       leymoral|   1-0|2016.06.30|22:00:02|    1751|    1712|           10.0|          -10.0|C62|Ruy Lopez: Steini...|      180+0|      Normal|1. e4 e5 2. Nf3 N...|\n",
            "| Blitz tournament |     Torres2300| Trabelsi-Wajdi|   0-1|2016.06.30|22:00:02|    1795|    1800|          -14.0|           11.0|B32|Sicilian Defense:...|      300+0|      Normal|1. e4 c5 2. Nf3 e...|\n",
            "| Blitz tournament |         Igor76|          dancg|   1-0|2016.06.30|22:00:02|    1913|    1925|           11.0|          -13.0|B12|Caro-Kann Defense...|      300+0|      Normal|1. e4 c6 2. d4 d5...|\n",
            "+------------------+---------------+---------------+------+----------+--------+--------+--------+---------------+---------------+---+--------------------+-----------+------------+--------------------+\n",
            "only showing top 20 rows\n",
            "\n"
          ]
        }
      ]
    },
    {
      "cell_type": "markdown",
      "source": [
        "## Esquema de los datos\n",
        "\n",
        "pandas: \n",
        "\n",
        "```\n",
        "df.info()\n",
        "```"
      ],
      "metadata": {
        "id": "aWY7QBlf6cUn"
      }
    },
    {
      "cell_type": "code",
      "source": [
        "df.printSchema()"
      ],
      "metadata": {
        "colab": {
          "base_uri": "https://localhost:8080/"
        },
        "id": "K5pWpuPVE6xT",
        "outputId": "25f8d5b7-964e-42b6-a2db-9b2f23bbb063"
      },
      "execution_count": null,
      "outputs": [
        {
          "output_type": "stream",
          "name": "stdout",
          "text": [
            "root\n",
            " |-- Event: string (nullable = true)\n",
            " |-- White: string (nullable = true)\n",
            " |-- Black: string (nullable = true)\n",
            " |-- Result: string (nullable = true)\n",
            " |-- UTCDate: string (nullable = true)\n",
            " |-- UTCTime: string (nullable = true)\n",
            " |-- WhiteElo: string (nullable = true)\n",
            " |-- BlackElo: string (nullable = true)\n",
            " |-- WhiteRatingDiff: string (nullable = true)\n",
            " |-- BlackRatingDiff: string (nullable = true)\n",
            " |-- ECO: string (nullable = true)\n",
            " |-- Opening: string (nullable = true)\n",
            " |-- TimeControl: string (nullable = true)\n",
            " |-- Termination: string (nullable = true)\n",
            " |-- AN: string (nullable = true)\n",
            "\n"
          ]
        }
      ]
    },
    {
      "cell_type": "markdown",
      "source": [
        "## Estadística descriptiva \n",
        "\n",
        "pandas: \n",
        "\n",
        "```\n",
        "df.describe()\n",
        "```"
      ],
      "metadata": {
        "id": "rOa_Qq8J7N_q"
      }
    },
    {
      "cell_type": "code",
      "source": [
        "df.describe().show()"
      ],
      "metadata": {
        "colab": {
          "base_uri": "https://localhost:8080/"
        },
        "id": "IAZ2Lj8cIc2M",
        "outputId": "b1fac20c-20f7-4fce-cb93-dd440a9d8f44"
      },
      "execution_count": null,
      "outputs": [
        {
          "output_type": "stream",
          "name": "stdout",
          "text": [
            "+-------+--------------------+--------------------+--------------------+-------+----------+--------+------------------+-----------------+------------------+--------------------+-------+--------------------+-----------+------------+--------------------+\n",
            "|summary|               Event|               White|               Black| Result|   UTCDate| UTCTime|          WhiteElo|         BlackElo|   WhiteRatingDiff|     BlackRatingDiff|    ECO|             Opening|TimeControl| Termination|                  AN|\n",
            "+-------+--------------------+--------------------+--------------------+-------+----------+--------+------------------+-----------------+------------------+--------------------+-------+--------------------+-----------+------------+--------------------+\n",
            "|  count|             6256184|             6256184|             6256184|6256184|   6256184| 6256184|           6256184|          6256184|           6251516|             6251516|6256184|             6256184|    6256184|     6256184|             6256184|\n",
            "|   mean|                null| 3.782330196990727E9| 3.354604044919762E9|   null|      null|    null|1741.9453049974234|1740.390282638746|0.5802621316173548|-0.36767321718443974|   null|                null|       null|        null|                null|\n",
            "| stddev|                null|5.801731265753314E10|4.802665283683308...|   null|      null|    null| 265.7170528378767|266.8938055381729|22.851855195181912|  21.820123820447357|   null|                null|       null|        null|                null|\n",
            "|    min|              Blitz |           --o-o-o--|           --o-o-o--|      *|2016.06.30|00:00:00|              1000|             1000|                +2|                  +3|    A00|    Alekhine Defense|          -|   Abandoned|1. Na3 Na6 2. Nh3...|\n",
            "|    max|Classical tournam...|             zzzzzzr|             zzzzzzr|1/2-1/2|2016.07.31|23:59:59|               999|              999|              99.0|                99.0|    E99|Zukertort Opening...|     960+90|Unterminated|1. h4?! { [%eval ...|\n",
            "+-------+--------------------+--------------------+--------------------+-------+----------+--------+------------------+-----------------+------------------+--------------------+-------+--------------------+-----------+------------+--------------------+\n",
            "\n"
          ]
        }
      ]
    },
    {
      "cell_type": "markdown",
      "source": [
        "## Filtrar el dataset \n",
        "\n",
        "pandas: \n",
        "\n",
        "```\n",
        "df[df['Event']=='Classical']\n",
        "```"
      ],
      "metadata": {
        "id": "43NFt_kY8HeI"
      }
    },
    {
      "cell_type": "code",
      "source": [
        "df.filter(df.Event == \"Classical \").show()"
      ],
      "metadata": {
        "colab": {
          "base_uri": "https://localhost:8080/"
        },
        "id": "4ur6PTYKJDcF",
        "outputId": "efe21bc4-202a-4f47-e12f-1ad042d4a345"
      },
      "execution_count": null,
      "outputs": [
        {
          "output_type": "stream",
          "name": "stdout",
          "text": [
            "+----------+---------------+----------------+------+----------+--------+--------+--------+---------------+---------------+---+--------------------+-----------+------------+--------------------+\n",
            "|     Event|          White|           Black|Result|   UTCDate| UTCTime|WhiteElo|BlackElo|WhiteRatingDiff|BlackRatingDiff|ECO|             Opening|TimeControl| Termination|                  AN|\n",
            "+----------+---------------+----------------+------+----------+--------+--------+--------+---------------+---------------+---+--------------------+-----------+------------+--------------------+\n",
            "|Classical |          Rokki|     solibalsara|   0-1|2016.07.02|23:16:20|    1868|    2123|           -4.0|            5.0|D08|Queen's Gambit Re...|     780+12|Time forfeit|1. d4 d5 2. c4 e5...|\n",
            "|Classical |  DieAffeninsel|          AtitDJ|   0-1|2016.07.05|11:40:16|    1415|    1610|           -5.0|            6.0|A07|King's Indian Attack|     1200+0|      Normal|1. Nf3 d5 2. g3 N...|\n",
            "|Classical |         Firhad|          h6HuXu|   1-0|2016.07.07|19:40:13|    1740|    1807|           14.0|          -12.0|B01|Scandinavian Defe...|     300+10|      Normal|1. e4 { [%eval 0....|\n",
            "|Classical |    Kaiser-Sose|Throw_In_The_Tal|   1-0|2016.07.10|15:27:44|    1471|    1503|           12.0|          -13.0|C50|        Italian Game|     1800+0|      Normal|1. e4 e5 2. Nf3 N...|\n",
            "|Classical |      asemanabi|        amateurd|   1-0|2016.07.11|23:59:51|    1856|    2105|           18.0|          -19.0|C01|French Defense: E...|      600+0|      Normal|1. d4 d5 2. c4 e5...|\n",
            "|Classical |       Abel4865|       Alabama24|   1-0|2016.07.14|12:24:00|    1695|    1567|            7.0|           -7.0|A00|Hungarian Opening...|      600+2|      Normal|1. g3 e6 2. Bg2 d...|\n",
            "|Classical |playforpleasure|       Moslem555|   1-0|2016.07.23|11:32:05|    1910|    1775|            7.0|           -8.0|D00|   Queen's Pawn Game|      480+0|      Normal|1. d4 d5 2. c3 c5...|\n",
            "+----------+---------------+----------------+------+----------+--------+--------+--------+---------------+---------------+---+--------------------+-----------+------------+--------------------+\n",
            "\n"
          ]
        }
      ]
    },
    {
      "cell_type": "markdown",
      "source": [
        "## Ordenar el dataset\n",
        "pandas: \n",
        "\n",
        "```\n",
        "df.sort_values(by=['UTCDate'], ascending=False)\n",
        "```"
      ],
      "metadata": {
        "id": "jWxhikfN85Ff"
      }
    },
    {
      "cell_type": "code",
      "source": [
        "df.sort(F.col(\"UTCDate\").desc()).show(10)"
      ],
      "metadata": {
        "colab": {
          "base_uri": "https://localhost:8080/"
        },
        "id": "X2f0G1wwMEek",
        "outputId": "cb45aaee-db14-4200-e2cc-f503ae8a0234"
      },
      "execution_count": null,
      "outputs": [
        {
          "output_type": "stream",
          "name": "stdout",
          "text": [
            "+--------------------+-------------+-------------------+------+----------+--------+--------+--------+---------------+---------------+---+--------------------+-----------+------------+--------------------+\n",
            "|               Event|        White|              Black|Result|   UTCDate| UTCTime|WhiteElo|BlackElo|WhiteRatingDiff|BlackRatingDiff|ECO|             Opening|TimeControl| Termination|                  AN|\n",
            "+--------------------+-------------+-------------------+------+----------+--------+--------+--------+---------------+---------------+---+--------------------+-----------+------------+--------------------+\n",
            "|   Blitz tournament |       iyei15|             SJ1992|   0-1|2016.07.31|00:00:03|    1288|    1449|           -7.0|            6.0|B30|Sicilian Defense:...|      180+0|Time forfeit|1. e4 { [%eval 0....|\n",
            "| Classical tourna...|   Cullarvega|     Vlctor3million|   1-0|2016.07.31|00:00:03|    1753|    1727|           11.0|          -11.0|A44|  Old Benoni Defense|      600+0|      Normal|1. d4 c5 2. d5 e5...|\n",
            "|              Blitz |   AryaPotter|             PTNXLO|   1-0|2016.07.31|00:00:01|    1669|    1683|           11.0|          -11.0|B01|Scandinavian Defe...|      180+1|      Normal|1. e4 { [%eval 0....|\n",
            "| Classical tourna...|Scouting4reds|          Adriano95|   0-1|2016.07.31|00:00:03|    1812|    1862|           -9.0|            9.0|D04|Queen's Pawn Game...|      600+0|      Normal|1. d4 Nf6 2. e3 d...|\n",
            "|   Blitz tournament |   tranquilin|       dreamingflow|   1-0|2016.07.31|00:00:03|    1772|    1792|           12.0|          -13.0|B00|         King's Pawn|      300+0|   Abandoned|           1. e4 1-0|\n",
            "| Classical tourna...|    mashanafi|          hellSp4wn|   1-0|2016.07.31|00:00:03|    1781|    1782|           11.0|          -11.0|B22|Sicilian Defense:...|      600+0|Time forfeit|1. e4 c5 2. c3 d6...|\n",
            "|   Blitz tournament | seriousman41|    eruditbattle_ru|   0-1|2016.07.31|00:00:03|    2073|    2094|          -52.0|           11.0|B40|Sicilian Defense:...|      180+0|      Normal|1. e4 c5 2. Nf3 e...|\n",
            "| Classical tourna...|   aeapmestre|Carrascodamadrugada|   1-0|2016.07.31|00:00:03|    2108|    2067|           11.0|          -26.0|A01|Nimzo-Larsen Atta...|      600+0|      Normal|1. b3 d5 2. Bb2 N...|\n",
            "|   Blitz tournament |         Tr3x|          Timothase|   1-0|2016.07.31|00:00:03|    1853|    1911|           24.0|          -13.0|C54|Italian Game: Cla...|      300+0|Time forfeit|1. e4 e5 2. d4 ex...|\n",
            "| Classical tourna...|     alexalad|          badcattie|   1-0|2016.07.31|00:00:03|    1580|    1548|           98.0|          -12.0|B50|    Sicilian Defense|      600+0|      Normal|1. e4 c5 2. Nf3 d...|\n",
            "+--------------------+-------------+-------------------+------+----------+--------+--------+--------+---------------+---------------+---+--------------------+-----------+------------+--------------------+\n",
            "only showing top 10 rows\n",
            "\n"
          ]
        }
      ]
    },
    {
      "cell_type": "markdown",
      "source": [
        "## Eliminar una columna:\n",
        "\n",
        "pandas: \n",
        "\n",
        "```\n",
        "df.drop(columns=['AN'], inplace=True)\n",
        "```"
      ],
      "metadata": {
        "id": "2Kdu-KN09cgv"
      }
    },
    {
      "cell_type": "code",
      "source": [
        "df = df.drop(\"AN\")\n",
        "df.show(10)"
      ],
      "metadata": {
        "colab": {
          "base_uri": "https://localhost:8080/"
        },
        "id": "pWO4OFv2Nlsw",
        "outputId": "e8aaacb9-4f88-447e-b6bc-e14be3888aba"
      },
      "execution_count": null,
      "outputs": [
        {
          "output_type": "stream",
          "name": "stdout",
          "text": [
            "+------------------+---------------+---------------+------+----------+--------+--------+--------+---------------+---------------+---+--------------------+-----------+------------+\n",
            "|             Event|          White|          Black|Result|   UTCDate| UTCTime|WhiteElo|BlackElo|WhiteRatingDiff|BlackRatingDiff|ECO|             Opening|TimeControl| Termination|\n",
            "+------------------+---------------+---------------+------+----------+--------+--------+--------+---------------+---------------+---+--------------------+-----------+------------+\n",
            "|        Classical |        eisaaaa|       HAMID449|   1-0|2016.06.30|22:00:01|    1901|    1896|           11.0|          -11.0|D10|        Slav Defense|      300+5|Time forfeit|\n",
            "|            Blitz |         go4jas|     Sergei1973|   0-1|2016.06.30|22:00:01|    1641|    1627|          -11.0|           12.0|C20|King's Pawn Openi...|      300+0|      Normal|\n",
            "| Blitz tournament |Evangelistaizac|         kafune|   1-0|2016.06.30|22:00:02|    1647|    1688|           13.0|          -13.0|B01|Scandinavian Defe...|      180+0|Time forfeit|\n",
            "|   Correspondence |         Jvayne|       Wsjvayne|   1-0|2016.06.30|22:00:02|    1706|    1317|           27.0|          -25.0|A00|Van't Kruijs Opening|          -|      Normal|\n",
            "| Blitz tournament |         kyoday|      BrettDale|   0-1|2016.06.30|22:00:02|    1945|    1900|          -14.0|           13.0|B90|Sicilian Defense:...|      180+0|Time forfeit|\n",
            "| Blitz tournament | lucaseixasouza|         diguim|   0-1|2016.06.30|22:00:02|    1773|    1809|          -10.0|           10.0|C27|         Vienna Game|      180+0|      Normal|\n",
            "| Blitz tournament |       RENZZO77|HeadlessChicken|   0-1|2016.06.30|22:00:02|    1895|    1886|          -12.0|           12.0|B10|Caro-Kann Defense...|      180+0|Time forfeit|\n",
            "| Blitz tournament |          ipero|      Bayern123|   1-0|2016.06.30|22:00:02|    2155|    2356|           20.0|          -20.0|D02|Queen's Pawn Game...|      180+0|      Normal|\n",
            "| Blitz tournament |Loginov19510410|        Kereshu|   0-1|2016.06.30|22:00:02|    2010|    2111|           -9.0|            9.0|A45|         Indian Game|      300+0|      Normal|\n",
            "| Blitz tournament |     Shambobala|     cernunnoss|   1-0|2016.06.30|22:00:02|    1764|    1773|           12.0|          -12.0|B01|Scandinavian Defe...|      180+0|Time forfeit|\n",
            "+------------------+---------------+---------------+------+----------+--------+--------+--------+---------------+---------------+---+--------------------+-----------+------------+\n",
            "only showing top 10 rows\n",
            "\n"
          ]
        }
      ]
    },
    {
      "cell_type": "markdown",
      "source": [
        "## Eliminar datos nulos:\n",
        "\n",
        "pandas: \n",
        "\n",
        "```\n",
        "df.dropna(inplace=True)\n",
        "```"
      ],
      "metadata": {
        "id": "M99VZSmX9ygq"
      }
    },
    {
      "cell_type": "code",
      "source": [
        "df = df.na.drop()\n",
        "df.show()"
      ],
      "metadata": {
        "colab": {
          "base_uri": "https://localhost:8080/"
        },
        "id": "Id9DjGzlOV-S",
        "outputId": "000c469b-f013-41fe-ce66-1eb64bc6fe29"
      },
      "execution_count": null,
      "outputs": [
        {
          "output_type": "stream",
          "name": "stdout",
          "text": [
            "+------------------+---------------+---------------+------+----------+--------+--------+--------+---------------+---------------+---+--------------------+-----------+------------+\n",
            "|             Event|          White|          Black|Result|   UTCDate| UTCTime|WhiteElo|BlackElo|WhiteRatingDiff|BlackRatingDiff|ECO|             Opening|TimeControl| Termination|\n",
            "+------------------+---------------+---------------+------+----------+--------+--------+--------+---------------+---------------+---+--------------------+-----------+------------+\n",
            "|        Classical |        eisaaaa|       HAMID449|   1-0|2016.06.30|22:00:01|    1901|    1896|           11.0|          -11.0|D10|        Slav Defense|      300+5|Time forfeit|\n",
            "|            Blitz |         go4jas|     Sergei1973|   0-1|2016.06.30|22:00:01|    1641|    1627|          -11.0|           12.0|C20|King's Pawn Openi...|      300+0|      Normal|\n",
            "| Blitz tournament |Evangelistaizac|         kafune|   1-0|2016.06.30|22:00:02|    1647|    1688|           13.0|          -13.0|B01|Scandinavian Defe...|      180+0|Time forfeit|\n",
            "|   Correspondence |         Jvayne|       Wsjvayne|   1-0|2016.06.30|22:00:02|    1706|    1317|           27.0|          -25.0|A00|Van't Kruijs Opening|          -|      Normal|\n",
            "| Blitz tournament |         kyoday|      BrettDale|   0-1|2016.06.30|22:00:02|    1945|    1900|          -14.0|           13.0|B90|Sicilian Defense:...|      180+0|Time forfeit|\n",
            "| Blitz tournament | lucaseixasouza|         diguim|   0-1|2016.06.30|22:00:02|    1773|    1809|          -10.0|           10.0|C27|         Vienna Game|      180+0|      Normal|\n",
            "| Blitz tournament |       RENZZO77|HeadlessChicken|   0-1|2016.06.30|22:00:02|    1895|    1886|          -12.0|           12.0|B10|Caro-Kann Defense...|      180+0|Time forfeit|\n",
            "| Blitz tournament |          ipero|      Bayern123|   1-0|2016.06.30|22:00:02|    2155|    2356|           20.0|          -20.0|D02|Queen's Pawn Game...|      180+0|      Normal|\n",
            "| Blitz tournament |Loginov19510410|        Kereshu|   0-1|2016.06.30|22:00:02|    2010|    2111|           -9.0|            9.0|A45|         Indian Game|      300+0|      Normal|\n",
            "| Blitz tournament |     Shambobala|     cernunnoss|   1-0|2016.06.30|22:00:02|    1764|    1773|           12.0|          -12.0|B01|Scandinavian Defe...|      180+0|Time forfeit|\n",
            "|        Classical |        DARDELU|   chess4life54|   0-1|2016.06.30|22:00:01|    1649|    1638|          -13.0|           11.0|C57|Italian Game: Two...|      900+3|      Normal|\n",
            "|        Classical |        fabikim|         sereno|   1-0|2016.06.30|22:00:02|    1630|    1500|            7.0|           -7.0|C41| Philidor Defense #3|      420+5|      Normal|\n",
            "| Blitz tournament |      IZDenisZI|         BoBo93|   1-0|2016.06.30|22:00:02|    1833|    1837|           11.0|          -12.0|C36|King's Gambit Acc...|      300+0|      Normal|\n",
            "| Blitz tournament |     lasha-fero| ildivinojohnny|   1-0|2016.06.30|22:00:02|    2020|    1979|           10.0|          -11.0|A00|      Polish Opening|      180+0|Time forfeit|\n",
            "| Blitz tournament |       arkadyNa|     sofianet06|   0-1|2016.06.30|22:00:02|    1581|    1616|          -12.0|           11.0|B01|Scandinavian Defe...|      180+0|Time forfeit|\n",
            "| Blitz tournament |    mayconchess|        trend19|   0-1|2016.06.30|22:00:02|    1879|    1868|          -13.0|           12.0|B01|Scandinavian Defe...|      180+0|      Normal|\n",
            "| Blitz tournament |         lj1983|        plmnnnn|   1-0|2016.06.30|22:00:02|    1963|    1979|           12.0|          -13.0|B10|Caro-Kann Defense...|      180+0|      Normal|\n",
            "| Blitz tournament |         Inorem|       leymoral|   1-0|2016.06.30|22:00:02|    1751|    1712|           10.0|          -10.0|C62|Ruy Lopez: Steini...|      180+0|      Normal|\n",
            "| Blitz tournament |     Torres2300| Trabelsi-Wajdi|   0-1|2016.06.30|22:00:02|    1795|    1800|          -14.0|           11.0|B32|Sicilian Defense:...|      300+0|      Normal|\n",
            "| Blitz tournament |         Igor76|          dancg|   1-0|2016.06.30|22:00:02|    1913|    1925|           11.0|          -13.0|B12|Caro-Kann Defense...|      300+0|      Normal|\n",
            "+------------------+---------------+---------------+------+----------+--------+--------+--------+---------------+---------------+---+--------------------+-----------+------------+\n",
            "only showing top 20 rows\n",
            "\n"
          ]
        }
      ]
    },
    {
      "cell_type": "markdown",
      "source": [
        "## Convertir datos a DataFrame de Pandas:"
      ],
      "metadata": {
        "id": "W1v_HrZk-S0e"
      }
    },
    {
      "cell_type": "code",
      "source": [
        "df_Pandas = df.select(\"Event\", \"White\", \"Black\", \"Result\").limit(50).toPandas()"
      ],
      "metadata": {
        "id": "Ec4hOwIROip9"
      },
      "execution_count": null,
      "outputs": []
    },
    {
      "cell_type": "code",
      "source": [
        "df_Pandas.head()"
      ],
      "metadata": {
        "id": "0-eQ3OPPRwLq",
        "colab": {
          "base_uri": "https://localhost:8080/",
          "height": 206
        },
        "outputId": "94d958c0-7f5e-4e1c-c2d3-3b587c5d1c5d"
      },
      "execution_count": null,
      "outputs": [
        {
          "output_type": "execute_result",
          "data": {
            "text/plain": [
              "                Event            White       Black Result\n",
              "0          Classical           eisaaaa    HAMID449    1-0\n",
              "1              Blitz            go4jas  Sergei1973    0-1\n",
              "2   Blitz tournament   Evangelistaizac      kafune    1-0\n",
              "3     Correspondence            Jvayne    Wsjvayne    1-0\n",
              "4   Blitz tournament            kyoday   BrettDale    0-1"
            ],
            "text/html": [
              "\n",
              "  <div id=\"df-9c523754-7423-48a3-8b98-ba3a588421eb\">\n",
              "    <div class=\"colab-df-container\">\n",
              "      <div>\n",
              "<style scoped>\n",
              "    .dataframe tbody tr th:only-of-type {\n",
              "        vertical-align: middle;\n",
              "    }\n",
              "\n",
              "    .dataframe tbody tr th {\n",
              "        vertical-align: top;\n",
              "    }\n",
              "\n",
              "    .dataframe thead th {\n",
              "        text-align: right;\n",
              "    }\n",
              "</style>\n",
              "<table border=\"1\" class=\"dataframe\">\n",
              "  <thead>\n",
              "    <tr style=\"text-align: right;\">\n",
              "      <th></th>\n",
              "      <th>Event</th>\n",
              "      <th>White</th>\n",
              "      <th>Black</th>\n",
              "      <th>Result</th>\n",
              "    </tr>\n",
              "  </thead>\n",
              "  <tbody>\n",
              "    <tr>\n",
              "      <th>0</th>\n",
              "      <td>Classical</td>\n",
              "      <td>eisaaaa</td>\n",
              "      <td>HAMID449</td>\n",
              "      <td>1-0</td>\n",
              "    </tr>\n",
              "    <tr>\n",
              "      <th>1</th>\n",
              "      <td>Blitz</td>\n",
              "      <td>go4jas</td>\n",
              "      <td>Sergei1973</td>\n",
              "      <td>0-1</td>\n",
              "    </tr>\n",
              "    <tr>\n",
              "      <th>2</th>\n",
              "      <td>Blitz tournament</td>\n",
              "      <td>Evangelistaizac</td>\n",
              "      <td>kafune</td>\n",
              "      <td>1-0</td>\n",
              "    </tr>\n",
              "    <tr>\n",
              "      <th>3</th>\n",
              "      <td>Correspondence</td>\n",
              "      <td>Jvayne</td>\n",
              "      <td>Wsjvayne</td>\n",
              "      <td>1-0</td>\n",
              "    </tr>\n",
              "    <tr>\n",
              "      <th>4</th>\n",
              "      <td>Blitz tournament</td>\n",
              "      <td>kyoday</td>\n",
              "      <td>BrettDale</td>\n",
              "      <td>0-1</td>\n",
              "    </tr>\n",
              "  </tbody>\n",
              "</table>\n",
              "</div>\n",
              "      <button class=\"colab-df-convert\" onclick=\"convertToInteractive('df-9c523754-7423-48a3-8b98-ba3a588421eb')\"\n",
              "              title=\"Convert this dataframe to an interactive table.\"\n",
              "              style=\"display:none;\">\n",
              "        \n",
              "  <svg xmlns=\"http://www.w3.org/2000/svg\" height=\"24px\"viewBox=\"0 0 24 24\"\n",
              "       width=\"24px\">\n",
              "    <path d=\"M0 0h24v24H0V0z\" fill=\"none\"/>\n",
              "    <path d=\"M18.56 5.44l.94 2.06.94-2.06 2.06-.94-2.06-.94-.94-2.06-.94 2.06-2.06.94zm-11 1L8.5 8.5l.94-2.06 2.06-.94-2.06-.94L8.5 2.5l-.94 2.06-2.06.94zm10 10l.94 2.06.94-2.06 2.06-.94-2.06-.94-.94-2.06-.94 2.06-2.06.94z\"/><path d=\"M17.41 7.96l-1.37-1.37c-.4-.4-.92-.59-1.43-.59-.52 0-1.04.2-1.43.59L10.3 9.45l-7.72 7.72c-.78.78-.78 2.05 0 2.83L4 21.41c.39.39.9.59 1.41.59.51 0 1.02-.2 1.41-.59l7.78-7.78 2.81-2.81c.8-.78.8-2.07 0-2.86zM5.41 20L4 18.59l7.72-7.72 1.47 1.35L5.41 20z\"/>\n",
              "  </svg>\n",
              "      </button>\n",
              "      \n",
              "  <style>\n",
              "    .colab-df-container {\n",
              "      display:flex;\n",
              "      flex-wrap:wrap;\n",
              "      gap: 12px;\n",
              "    }\n",
              "\n",
              "    .colab-df-convert {\n",
              "      background-color: #E8F0FE;\n",
              "      border: none;\n",
              "      border-radius: 50%;\n",
              "      cursor: pointer;\n",
              "      display: none;\n",
              "      fill: #1967D2;\n",
              "      height: 32px;\n",
              "      padding: 0 0 0 0;\n",
              "      width: 32px;\n",
              "    }\n",
              "\n",
              "    .colab-df-convert:hover {\n",
              "      background-color: #E2EBFA;\n",
              "      box-shadow: 0px 1px 2px rgba(60, 64, 67, 0.3), 0px 1px 3px 1px rgba(60, 64, 67, 0.15);\n",
              "      fill: #174EA6;\n",
              "    }\n",
              "\n",
              "    [theme=dark] .colab-df-convert {\n",
              "      background-color: #3B4455;\n",
              "      fill: #D2E3FC;\n",
              "    }\n",
              "\n",
              "    [theme=dark] .colab-df-convert:hover {\n",
              "      background-color: #434B5C;\n",
              "      box-shadow: 0px 1px 3px 1px rgba(0, 0, 0, 0.15);\n",
              "      filter: drop-shadow(0px 1px 2px rgba(0, 0, 0, 0.3));\n",
              "      fill: #FFFFFF;\n",
              "    }\n",
              "  </style>\n",
              "\n",
              "      <script>\n",
              "        const buttonEl =\n",
              "          document.querySelector('#df-9c523754-7423-48a3-8b98-ba3a588421eb button.colab-df-convert');\n",
              "        buttonEl.style.display =\n",
              "          google.colab.kernel.accessAllowed ? 'block' : 'none';\n",
              "\n",
              "        async function convertToInteractive(key) {\n",
              "          const element = document.querySelector('#df-9c523754-7423-48a3-8b98-ba3a588421eb');\n",
              "          const dataTable =\n",
              "            await google.colab.kernel.invokeFunction('convertToInteractive',\n",
              "                                                     [key], {});\n",
              "          if (!dataTable) return;\n",
              "\n",
              "          const docLinkHtml = 'Like what you see? Visit the ' +\n",
              "            '<a target=\"_blank\" href=https://colab.research.google.com/notebooks/data_table.ipynb>data table notebook</a>'\n",
              "            + ' to learn more about interactive tables.';\n",
              "          element.innerHTML = '';\n",
              "          dataTable['output_type'] = 'display_data';\n",
              "          await google.colab.output.renderOutput(dataTable, element);\n",
              "          const docLink = document.createElement('div');\n",
              "          docLink.innerHTML = docLinkHtml;\n",
              "          element.appendChild(docLink);\n",
              "        }\n",
              "      </script>\n",
              "    </div>\n",
              "  </div>\n",
              "  "
            ]
          },
          "metadata": {},
          "execution_count": 20
        }
      ]
    },
    {
      "cell_type": "code",
      "source": [
        "df_Pandas.shape"
      ],
      "metadata": {
        "colab": {
          "base_uri": "https://localhost:8080/"
        },
        "id": "N0I23HrGOxo7",
        "outputId": "6d00728d-e9c5-40c7-d9c1-d2d9302ab393"
      },
      "execution_count": null,
      "outputs": [
        {
          "output_type": "execute_result",
          "data": {
            "text/plain": [
              "(50, 4)"
            ]
          },
          "metadata": {},
          "execution_count": 21
        }
      ]
    },
    {
      "cell_type": "markdown",
      "source": [
        "## UDF\n",
        "\n",
        "Los UDF de Pyspark son similares a los métodos .map () y .apply () de pandas 'series y dataframes'.\n",
        "\n",
        "Eliminar espacios en un string:"
      ],
      "metadata": {
        "id": "UoXcejk0-doH"
      }
    },
    {
      "cell_type": "code",
      "source": [
        "UDF_python = F.udf(lambda s: s.replace(\" \", \"\"), StringType())\n",
        "df = df.withColumn(\"Event\", UDF_python(\"Event\"))"
      ],
      "metadata": {
        "id": "vT1d72L3XIgu"
      },
      "execution_count": null,
      "outputs": []
    },
    {
      "cell_type": "code",
      "source": [
        "df.show()"
      ],
      "metadata": {
        "id": "GAAEFg8X8uV3"
      },
      "execution_count": null,
      "outputs": []
    },
    {
      "cell_type": "markdown",
      "source": [
        "## Agrupar datos\n",
        "\n",
        "pandas: \n",
        "\n",
        "```\n",
        "df.groupby('Event').count()\n",
        "```"
      ],
      "metadata": {
        "id": "7pgukdnOAVkg"
      }
    },
    {
      "cell_type": "code",
      "source": [
        "df_group = df.groupBy('Event').count()\n",
        "df_group.show()"
      ],
      "metadata": {
        "id": "3r_-5N3FWLbc"
      },
      "execution_count": null,
      "outputs": []
    },
    {
      "cell_type": "markdown",
      "source": [
        "## Cambiar tipo de dato de una columna (date)\n",
        "\n",
        "pandas: \n",
        "\n",
        "```\n",
        "df['Date] = pd.to_datetime(df['UTCDate'], format=\"%Y/%m/%d\")\n",
        "```"
      ],
      "metadata": {
        "id": "M35bRcDWBFPs"
      }
    },
    {
      "cell_type": "code",
      "source": [
        "df = df.withColumn(\"Date\", F.to_date(F.col(\"UTCDate\"),\"yyyy.MM.dd\"))\n",
        "df.printSchema()"
      ],
      "metadata": {
        "id": "rxRaZrbOYMFG"
      },
      "execution_count": null,
      "outputs": []
    },
    {
      "cell_type": "markdown",
      "source": [
        "## Renombrar una columna\n",
        "\n",
        "pandas: \n",
        "\n",
        "```\n",
        "df.rename(columns={'Opening':'Opening Type'}, inplace=True)\n",
        "```"
      ],
      "metadata": {
        "id": "XZ1N3VRHHY5r"
      }
    },
    {
      "cell_type": "code",
      "source": [
        "df = df.withColumnRenamed(\"Opening\", \"Opening Type\")"
      ],
      "metadata": {
        "id": "kFathnm8ZOrR"
      },
      "execution_count": null,
      "outputs": []
    },
    {
      "cell_type": "code",
      "source": [
        "df.show(3)"
      ],
      "metadata": {
        "id": "wu3MdGZNaRZq"
      },
      "execution_count": null,
      "outputs": []
    },
    {
      "cell_type": "code",
      "source": [
        "Image(filename='sql.png')"
      ],
      "metadata": {
        "id": "WLuL-dKw7WHX"
      },
      "execution_count": null,
      "outputs": []
    },
    {
      "cell_type": "markdown",
      "source": [
        "# **Spark SQL en Python**"
      ],
      "metadata": {
        "id": "73nMomUYcmYz"
      }
    },
    {
      "cell_type": "markdown",
      "source": [
        "## Creación de vista del dataframe"
      ],
      "metadata": {
        "id": "JmGLxC63cGRq"
      }
    },
    {
      "cell_type": "code",
      "source": [
        "df.createOrReplaceTempView(\"chess_games\")"
      ],
      "metadata": {
        "id": "xMMclp5dHqLw"
      },
      "execution_count": null,
      "outputs": []
    },
    {
      "cell_type": "markdown",
      "source": [
        "## Cantidad de resgistros"
      ],
      "metadata": {
        "id": "c2LrA1UjcSia"
      }
    },
    {
      "cell_type": "code",
      "source": [
        "spark.sql(\"SELECT COUNT(*) FROM chess_games\").show()"
      ],
      "metadata": {
        "colab": {
          "base_uri": "https://localhost:8080/"
        },
        "id": "OgXnbBvdHgba",
        "outputId": "f45caa8e-a1b4-4920-bd61-e6e8261f5b98"
      },
      "execution_count": null,
      "outputs": [
        {
          "output_type": "stream",
          "name": "stdout",
          "text": [
            "+--------+\n",
            "|count(1)|\n",
            "+--------+\n",
            "| 6251516|\n",
            "+--------+\n",
            "\n"
          ]
        }
      ]
    },
    {
      "cell_type": "markdown",
      "source": [
        "## Valores únicos de una columna"
      ],
      "metadata": {
        "id": "UqbxXSy9c2jz"
      }
    },
    {
      "cell_type": "code",
      "source": [
        "spark.sql(\"SELECT DISTINCT Result FROM chess_games\").show()"
      ],
      "metadata": {
        "colab": {
          "base_uri": "https://localhost:8080/"
        },
        "id": "9Ciouk4ldR8_",
        "outputId": "b4568027-40b5-48c6-8a52-54f668afa92e"
      },
      "execution_count": null,
      "outputs": [
        {
          "output_type": "stream",
          "name": "stdout",
          "text": [
            "+-------+\n",
            "| Result|\n",
            "+-------+\n",
            "|1/2-1/2|\n",
            "|    1-0|\n",
            "|    0-1|\n",
            "|      *|\n",
            "+-------+\n",
            "\n"
          ]
        }
      ]
    },
    {
      "cell_type": "markdown",
      "source": [
        "## Crear nueva columna"
      ],
      "metadata": {
        "id": "d1wbhwICc9Xl"
      }
    },
    {
      "cell_type": "code",
      "source": [
        "spark.sql(\"SELECT Event, White, Black, Result, CASE WHEN Result = '1/2-1/2' THEN 'Empate' WHEN Result = '1-0' THEN 'White wins' WHEN Result = '0-1' THEN 'Black wins' ELSE 'NA' END AS definitive_results FROM chess_games\").show()"
      ],
      "metadata": {
        "colab": {
          "base_uri": "https://localhost:8080/"
        },
        "id": "GzeZ-yysak9X",
        "outputId": "c85c150e-c6b8-4721-c323-7084c9235692"
      },
      "execution_count": null,
      "outputs": [
        {
          "output_type": "stream",
          "name": "stdout",
          "text": [
            "+------------------+---------------+---------------+------+------------------+\n",
            "|             Event|          White|          Black|Result|definitive_results|\n",
            "+------------------+---------------+---------------+------+------------------+\n",
            "|        Classical |        eisaaaa|       HAMID449|   1-0|        White wins|\n",
            "|            Blitz |         go4jas|     Sergei1973|   0-1|        Black wins|\n",
            "| Blitz tournament |Evangelistaizac|         kafune|   1-0|        White wins|\n",
            "|   Correspondence |         Jvayne|       Wsjvayne|   1-0|        White wins|\n",
            "| Blitz tournament |         kyoday|      BrettDale|   0-1|        Black wins|\n",
            "| Blitz tournament | lucaseixasouza|         diguim|   0-1|        Black wins|\n",
            "| Blitz tournament |       RENZZO77|HeadlessChicken|   0-1|        Black wins|\n",
            "| Blitz tournament |          ipero|      Bayern123|   1-0|        White wins|\n",
            "| Blitz tournament |Loginov19510410|        Kereshu|   0-1|        Black wins|\n",
            "| Blitz tournament |     Shambobala|     cernunnoss|   1-0|        White wins|\n",
            "|        Classical |        DARDELU|   chess4life54|   0-1|        Black wins|\n",
            "|        Classical |        fabikim|         sereno|   1-0|        White wins|\n",
            "| Blitz tournament |      IZDenisZI|         BoBo93|   1-0|        White wins|\n",
            "| Blitz tournament |     lasha-fero| ildivinojohnny|   1-0|        White wins|\n",
            "| Blitz tournament |       arkadyNa|     sofianet06|   0-1|        Black wins|\n",
            "| Blitz tournament |    mayconchess|        trend19|   0-1|        Black wins|\n",
            "| Blitz tournament |         lj1983|        plmnnnn|   1-0|        White wins|\n",
            "| Blitz tournament |         Inorem|       leymoral|   1-0|        White wins|\n",
            "| Blitz tournament |     Torres2300| Trabelsi-Wajdi|   0-1|        Black wins|\n",
            "| Blitz tournament |         Igor76|          dancg|   1-0|        White wins|\n",
            "+------------------+---------------+---------------+------+------------------+\n",
            "only showing top 20 rows\n",
            "\n"
          ]
        }
      ]
    },
    {
      "cell_type": "markdown",
      "source": [
        "## Calculos de una columna"
      ],
      "metadata": {
        "id": "ZtA_vRjxdCqF"
      }
    },
    {
      "cell_type": "code",
      "source": [
        "spark.sql(\"SELECT AVG(WhiteELO) as avg_white_elo, AVG(BlackELO) as avg_black_elo  FROM chess_games\").show()"
      ],
      "metadata": {
        "colab": {
          "base_uri": "https://localhost:8080/"
        },
        "id": "XrLUEu8ua7Az",
        "outputId": "1b025a6b-268c-4086-b3ee-2111f9fcece8"
      },
      "execution_count": null,
      "outputs": [
        {
          "output_type": "stream",
          "name": "stdout",
          "text": [
            "+------------------+----------------+\n",
            "|     avg_white_elo|   avg_black_elo|\n",
            "+------------------+----------------+\n",
            "|1741.9246147654426|1740.37044838404|\n",
            "+------------------+----------------+\n",
            "\n"
          ]
        }
      ]
    }
  ]
}