{
  "cells": [
    {
      "cell_type": "markdown",
      "metadata": {
        "id": "view-in-github",
        "colab_type": "text"
      },
      "source": [
        "<a href=\"https://colab.research.google.com/github/edalgoca/mod02_python/blob/main/20221022_corto_numpy_pandas_matplotlib.ipynb\" target=\"_parent\"><img src=\"https://colab.research.google.com/assets/colab-badge.svg\" alt=\"Open In Colab\"/></a>"
      ]
    },
    {
      "cell_type": "markdown",
      "metadata": {
        "id": "bidqLtay0ivu"
      },
      "source": [
        "# Punto 0:"
      ]
    },
    {
      "cell_type": "code",
      "execution_count": null,
      "metadata": {
        "id": "TNZZ07ZX0ivv"
      },
      "outputs": [],
      "source": [
        "# importar pandas\n"
      ]
    },
    {
      "cell_type": "code",
      "execution_count": null,
      "metadata": {
        "id": "UOC8QKep0ivx"
      },
      "outputs": [],
      "source": [
        "# datos de RRSS 2020\n",
        "fbk = ['Facebook', 2449, True, 2006]\n",
        "twt = ['Twitter', 339, False, 2006]\n",
        "ig = ['Instagram', 1000, True, 2010]\n",
        "yt = ['YouTube', 2000, False, 2005]\n",
        "lkn = ['LinkedIn', 663, False, 2003]\n",
        "wsp = ['WhatsApp', 1600, True, 2009]\n",
        "\n",
        "# lista con datos\n",
        "lista_rrss = [fbk, twt, ig, yt, lkn, wsp]\n",
        "\n",
        "# crear dataframe a partir de listas\n",
        "df_rrss=pd.DataFrame(lista_rrss,\n",
        "            columns = ['red_social', 'usuarios', 'is_fbk', 'Año'])\n",
        "df_rrss"
      ]
    },
    {
      "cell_type": "code",
      "execution_count": null,
      "metadata": {
        "id": "Dne4p13p0ivy"
      },
      "outputs": [],
      "source": [
        "# importar matplotlib"
      ]
    },
    {
      "cell_type": "code",
      "execution_count": null,
      "metadata": {
        "id": "sxa-TeAX0ivz"
      },
      "outputs": [],
      "source": [
        "# ejemplo super mega básico\n"
      ]
    },
    {
      "cell_type": "markdown",
      "metadata": {
        "id": "yli8FQ_h0ivz"
      },
      "source": [
        "# Punto 1:"
      ]
    },
    {
      "cell_type": "code",
      "execution_count": null,
      "metadata": {
        "id": "07kWcNRX0iv0"
      },
      "outputs": [],
      "source": [
        "# gráfico de líneas utilizando matplotlib\n"
      ]
    },
    {
      "cell_type": "code",
      "execution_count": null,
      "metadata": {
        "id": "YwEppeIy0iv0"
      },
      "outputs": [],
      "source": [
        "# gráfico de puntos utilizando matplotlib\n"
      ]
    },
    {
      "cell_type": "code",
      "execution_count": null,
      "metadata": {
        "id": "HV26BetL0iv1"
      },
      "outputs": [],
      "source": [
        "# EXTRA: cómo hacer lo mismo con métodos de un dataframe de pandas\n"
      ]
    },
    {
      "cell_type": "markdown",
      "metadata": {
        "id": "aQUznX6c0iv1"
      },
      "source": [
        "# Punto 2:"
      ]
    },
    {
      "cell_type": "code",
      "execution_count": null,
      "metadata": {
        "id": "cH6Oo0dU0iv2"
      },
      "outputs": [],
      "source": [
        "# hacer gráficos de barras"
      ]
    },
    {
      "cell_type": "code",
      "execution_count": null,
      "metadata": {
        "id": "08UBj5Cc0iv3"
      },
      "outputs": [],
      "source": [
        "# gráfico de puntos utilizando matplotlib\n"
      ]
    },
    {
      "cell_type": "code",
      "execution_count": null,
      "metadata": {
        "id": "llD2yXJl0iv3"
      },
      "outputs": [],
      "source": [
        "# gráfico de barras ordenado\n"
      ]
    },
    {
      "cell_type": "code",
      "execution_count": null,
      "metadata": {
        "id": "Zz6QhHsU0iv3"
      },
      "outputs": [],
      "source": [
        "# gráfico de barras ordenado y con color\n",
        "\n",
        "\n",
        "# b: blue.\n",
        "# g: green.\n",
        "# r: red.\n",
        "# c: cyan.\n",
        "# m: magenta.\n",
        "# y: yellow.\n",
        "# k: black.\n",
        "# w: white.\n",
        "        \n"
      ]
    },
    {
      "cell_type": "markdown",
      "metadata": {
        "id": "ce1e4snk0iv4"
      },
      "source": [
        "# Punto 3:"
      ]
    },
    {
      "cell_type": "code",
      "execution_count": null,
      "metadata": {
        "id": "t-sPbc1d0iv5"
      },
      "outputs": [],
      "source": [
        "# Hacer gráficas de pastel/tarta/torta/pie"
      ]
    },
    {
      "cell_type": "code",
      "execution_count": null,
      "metadata": {
        "id": "DYqX1AyB0iv5"
      },
      "outputs": [],
      "source": [
        "# gráfico de puntos utilizando matplotlib\n"
      ]
    },
    {
      "cell_type": "code",
      "execution_count": null,
      "metadata": {
        "id": "CuJS_AWg0iv5"
      },
      "outputs": [],
      "source": [
        "lista_col_rrss=['#3b5998', '#FF0000', '#25d366', '#8a3ab9', '#0e76a8', '#00acee']"
      ]
    },
    {
      "cell_type": "code",
      "execution_count": null,
      "metadata": {
        "id": "CWKFK4Qg0iv6"
      },
      "outputs": [],
      "source": [
        "# grafico de puntos utilizando matplotlib\n"
      ]
    },
    {
      "cell_type": "code",
      "execution_count": null,
      "metadata": {
        "id": "pMFk6zKu0iv6"
      },
      "outputs": [],
      "source": []
    }
  ],
  "metadata": {
    "kernelspec": {
      "display_name": "Python 3",
      "language": "python",
      "name": "python3"
    },
    "language_info": {
      "codemirror_mode": {
        "name": "ipython",
        "version": 3
      },
      "file_extension": ".py",
      "mimetype": "text/x-python",
      "name": "python",
      "nbconvert_exporter": "python",
      "pygments_lexer": "ipython3",
      "version": "3.7.6"
    },
    "colab": {
      "provenance": [],
      "collapsed_sections": [],
      "include_colab_link": true
    }
  },
  "nbformat": 4,
  "nbformat_minor": 0
}